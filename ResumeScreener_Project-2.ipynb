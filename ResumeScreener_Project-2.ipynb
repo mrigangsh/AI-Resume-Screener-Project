{
 "cells": [
  {
   "cell_type": "markdown",
   "id": "719a9fb3-797f-4fd2-b3fe-c914bdb0045a",
   "metadata": {},
   "source": [
    "# AI Resume Screener Project\n",
    "\n",
    "This project uses Python, Pandas, and NLP to extract and analyze information from PDF resumes for automated shortlisting.\n"
   ]
  },
  {
   "cell_type": "code",
   "execution_count": 3,
   "id": "54e402fe-f660-4b13-96d4-40f4001f629b",
   "metadata": {},
   "outputs": [],
   "source": [
    "import pandas as pd\n",
    "import numpy as np\n",
    "import nltk\n",
    "from PyPDF2 import PdfReader"
   ]
  },
  {
   "cell_type": "code",
   "execution_count": 4,
   "id": "971ff8fd-65c3-4b0b-b91c-48424e03e0a6",
   "metadata": {},
   "outputs": [
    {
     "name": "stdout",
     "output_type": "stream",
     "text": [
      "Mystery Penguin \n",
      "📧 example@email.com | \n",
      "📞 (555) 123-4567 | \n",
      "📍 Edgar Springs, MO  Summary Competent software engineer, able to work effectively in a fast-paced, agile environment, and passionate about developing software architecture for primarily web applications.  Experience Software Engineer BlueTech Software • Los Angeles, California July 2019 - Present • Researched and created a new application, resulting in a 1.3x increase in sales. • Created a new software development framework to develop applications faster and more efficiently. • Developed a process for testing and recording test results, increasing tests completed per day by 10%. • Developed a new technique to reduce crash fix time by 20%. Web Developer Mezzanine • Los Angeles, California May 2018 • Developed a collaborative environment for team members, boosting community and empowerment. • Designed a web application increasing team collaboration, leading to a 10% revenue increase in one quarter. • Built a custom CRM-integrated web application in just 2 weeks. • Maintained a professional and creative web presence. Software Engineer Geeks 4 Nerds • Los Angeles, California October 2016 • Designed and implemented a cloud-based mobile POS platform, resulting in 50% customer retention increase. • Collaborated with hardware and software teams for seamless POS integration. • Built and maintained an internal knowledge base of software development best practices.  Skills C, Java, SDLC, Software Development, Linux, C#, Communication Skills  Education Bachelor's Degree in Computer Science Zirkel College • Los Angeles, California  \n"
     ]
    }
   ],
   "source": [
    "# Reading the uploaded resume\n",
    "reader = PdfReader(\"resumesample1.pdf\")\n",
    "text = \"\"\n",
    "\n",
    "# Loop through all the pages and extract text\n",
    "for page in reader.pages:\n",
    "    text += page.extract_text()\n",
    "\n",
    "print(text)"
   ]
  },
  {
   "cell_type": "code",
   "execution_count": 5,
   "id": "2af56d2c-9696-4678-a85c-c85765302f04",
   "metadata": {},
   "outputs": [],
   "source": [
    "from PyPDF2 import PdfReader"
   ]
  },
  {
   "cell_type": "code",
   "execution_count": 6,
   "id": "c83fb4ed-718e-409c-bb95-10105b3c515b",
   "metadata": {},
   "outputs": [
    {
     "name": "stdout",
     "output_type": "stream",
     "text": [
      "Position: Software Engineer – Web & Backend Development Location: London, UK About the Role: We are seeking a talented and motivated Software Engineer to join our agile team focused on building innovative web and backend solutions. The ideal candidate will have strong experience in software development, SDLC processes, and web application design. Responsibilities: • Develop and maintain scalable web applications and backend systems. • Collaborate with cross-functional teams to design, develop, and test new software features. • Improve application performance, security, and scalability. • Participate in software design and architecture discussions. • Work with cloud platforms to deploy web applications. Required Skills: • Strong programming skills in C, Java, or C#. • Solid understanding of Software Development Life Cycle (SDLC). • Experience with web application development and CRM systems. • Familiarity with Linux operating systems. • Ability to work in an agile environment and contribute to collaborative teams. • Strong communication and documentation skills. Preferred Skills: • Experience with cloud-based application development. • Knowledge of database management and API integration. Education: • Bachelor’s Degree in Computer Science, Software Engineering, or related field.  \n"
     ]
    }
   ],
   "source": [
    "jd_reader = PdfReader(\"jd sample1.pdf\")\n",
    "jd_text = \"\"\n",
    "\n",
    "for page in jd_reader.pages:\n",
    "    jd_text += page.extract_text()\n",
    "\n",
    "print(jd_text)   "
   ]
  },
  {
   "cell_type": "code",
   "execution_count": 7,
   "id": "a3b8dc5f-1266-4cff-a585-1962498ab7e9",
   "metadata": {},
   "outputs": [
    {
     "name": "stdout",
     "output_type": "stream",
     "text": [
      "['/Users/ms/nltk_data', '/Library/Frameworks/Python.framework/Versions/3.13/nltk_data', '/Library/Frameworks/Python.framework/Versions/3.13/share/nltk_data', '/Library/Frameworks/Python.framework/Versions/3.13/lib/nltk_data', '/usr/share/nltk_data', '/usr/local/share/nltk_data', '/usr/lib/nltk_data', '/usr/local/lib/nltk_data']\n"
     ]
    }
   ],
   "source": [
    "import nltk\n",
    "print(nltk.data.path)\n"
   ]
  },
  {
   "cell_type": "code",
   "execution_count": 8,
   "id": "f2b76ea3-41bf-4875-8a2f-ad805795ecb9",
   "metadata": {},
   "outputs": [],
   "source": [
    "# Lowercase and clean\n",
    "resume_text = text.lower().strip()\n",
    "jd_text = jd_text.lower().strip()"
   ]
  },
  {
   "cell_type": "code",
   "execution_count": 9,
   "id": "7e084280-c1d5-421f-a2dd-41f1dc254d05",
   "metadata": {},
   "outputs": [],
   "source": [
    "# List of important skills (based on resume and JD)\n",
    "skills_list = [\"c\", \"java\", \"c#\", \"sdlc\", \"software development\", \"web applications\", \"linux\", \"agile\", \"cloud\"]"
   ]
  },
  {
   "cell_type": "code",
   "execution_count": 10,
   "id": "be6a1813-3952-48ec-8411-50354f1cec56",
   "metadata": {},
   "outputs": [
    {
     "name": "stdout",
     "output_type": "stream",
     "text": [
      "✅ Skills found in Resume: ['c', 'java', 'c#', 'sdlc', 'software development', 'web applications', 'linux', 'agile', 'cloud']\n",
      "🎯 Skills required in JD: ['c', 'java', 'c#', 'sdlc', 'software development', 'web applications', 'linux', 'agile', 'cloud']\n"
     ]
    }
   ],
   "source": [
    "# Skills found in Resume\n",
    "resume_skills = [skill for skill in skills_list if skill in resume_text]\n",
    "\n",
    "# Skills required in JD\n",
    "jd_skills = [skill for skill in skills_list if skill in jd_text]\n",
    "\n",
    "print(\"✅ Skills found in Resume:\", resume_skills)\n",
    "print(\"🎯 Skills required in JD:\", jd_skills)"
   ]
  },
  {
   "cell_type": "code",
   "execution_count": 11,
   "id": "d5505068-91b4-47a0-b81e-ceaaaa560a2e",
   "metadata": {},
   "outputs": [
    {
     "name": "stdout",
     "output_type": "stream",
     "text": [
      "✅ Resume matches 100.00% of the Job Description skills.\n"
     ]
    }
   ],
   "source": [
    "# Calculate Matching Score\n",
    "matching_skills = set(resume_skills) & set(jd_skills)\n",
    "match_percentage = (len(matching_skills) / len(jd_skills)) * 100\n",
    "\n",
    "print(f\"✅ Resume matches {match_percentage:.2f}% of the Job Description skills.\")"
   ]
  },
  {
   "cell_type": "code",
   "execution_count": null,
   "id": "a8112fd7-56a4-4332-9e2d-a47c46a227f9",
   "metadata": {},
   "outputs": [],
   "source": []
  }
 ],
 "metadata": {
  "kernelspec": {
   "display_name": "Python 3 (ipykernel)",
   "language": "python",
   "name": "python3"
  },
  "language_info": {
   "codemirror_mode": {
    "name": "ipython",
    "version": 3
   },
   "file_extension": ".py",
   "mimetype": "text/x-python",
   "name": "python",
   "nbconvert_exporter": "python",
   "pygments_lexer": "ipython3",
   "version": "3.13.2"
  }
 },
 "nbformat": 4,
 "nbformat_minor": 5
}
